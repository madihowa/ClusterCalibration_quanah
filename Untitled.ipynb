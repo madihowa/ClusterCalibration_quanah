{
 "cells": [
  {
   "cell_type": "code",
   "execution_count": 3,
   "id": "d6d096ee",
   "metadata": {},
   "outputs": [],
   "source": [
    "import csv\n",
    "import pandas as pd\n",
    "\n",
    "\n",
    "def ReadInputVaribles():\n",
    "    list_input = []\n",
    "\n",
    "    file = 'og_data/train.csv'\n",
    "\n",
    "    with open(file) as csv_file:\n",
    "        csv_reader = csv.reader(csv_file, delimiter=',')\n",
    "        for row in csv_reader:\n",
    "            if '#' in row[0]: continue\n",
    "            list_input = list_input + row\n",
    "    print(list_input)\n",
    "    return list_input"
   ]
  },
  {
   "cell_type": "code",
   "execution_count": null,
   "id": "d9168624",
   "metadata": {},
   "outputs": [],
   "source": []
  }
 ],
 "metadata": {
  "kernelspec": {
   "display_name": "Python 3 (ipykernel)",
   "language": "python",
   "name": "python3"
  },
  "language_info": {
   "codemirror_mode": {
    "name": "ipython",
    "version": 3
   },
   "file_extension": ".py",
   "mimetype": "text/x-python",
   "name": "python",
   "nbconvert_exporter": "python",
   "pygments_lexer": "ipython3",
   "version": "3.8.5"
  }
 },
 "nbformat": 4,
 "nbformat_minor": 5
}
